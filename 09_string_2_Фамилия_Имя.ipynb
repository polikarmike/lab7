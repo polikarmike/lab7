{
 "cells": [
  {
   "cell_type": "markdown",
   "metadata": {},
   "source": [
    "# Введение в обработку текста на естественном языке"
   ]
  },
  {
   "cell_type": "markdown",
   "metadata": {},
   "source": [
    "Материалы:\n",
    "* Макрушин С.В. Лекция 9: Введение в обработку текста на естественном языке\\\n",
    "* https://realpython.com/nltk-nlp-python/\n",
    "* https://scikit-learn.org/stable/modules/feature_extraction.html"
   ]
  },
  {
   "cell_type": "markdown",
   "metadata": {},
   "source": [
    "## Лабораторная работа 9"
   ]
  },
  {
   "cell_type": "markdown",
   "metadata": {},
   "source": [
    "### Расстояние редактирования"
   ]
  },
  {
   "cell_type": "markdown",
   "metadata": {},
   "source": [
    "1.1 Загрузите предобработанные описания рецептов из файла `preprocessed_descriptions.csv`. Получите набор уникальных слов `words`, содержащихся в текстах описаний рецептов (воспользуйтесь `word_tokenize` из `nltk`). "
   ]
  },
  {
   "cell_type": "code",
   "execution_count": 1,
   "metadata": {},
   "outputs": [],
   "source": [
    "import re\n",
    "import pandas as pd\n",
    "from nltk.tokenize import word_tokenize\n",
    "from IPython.display import display"
   ]
  },
  {
   "cell_type": "code",
   "execution_count": 2,
   "metadata": {},
   "outputs": [],
   "source": [
    "def preprocess_text(text):\n",
    "    text = re.sub(r'[^\\w\\s]', ' ', text)\n",
    "    text = re.sub(r'\\d+', ' ', text)\n",
    "    return text"
   ]
  },
  {
   "cell_type": "code",
   "execution_count": 3,
   "metadata": {},
   "outputs": [
    {
     "name": "stdout",
     "output_type": "stream",
     "text": [
      "Уникальные слова: snack, your, warm, spinach, mushroom, was, taught, side, salad, cuisine, for, day, house, any, roll, on, i, loaf, favourite, triple, typical, served, me, ll, this, note, thing, comes, which, a, nori, layered, friend, real, pita, is, entree, chicken, salsa, during, bread, and, sushi, its, with, started, tzaziki, style, will, can, they, layers, guests, sandwich, s, very, taste, cucumber, make, slices, game, sauce, be, he, here, used, hudson, chutney, two, lovers, california, as, how, english, sandwiched, the, greens, healthy, dish, australian, wisconsin, serve, love, american, from, to, between, of, ized, wrapper, filling, seaweed, jefferson, or, tasteful, ya, artichoke, leftover, easy, layer, out, recipe, it, japanese, because, check, in, my, pre\n"
     ]
    }
   ],
   "source": [
    "\n",
    "descriptions = ' '.join(pd.read_csv('data/recipes_sample.csv')['description'].sample(5))\n",
    "\n",
    "words = word_tokenize(preprocess_text(descriptions))\n",
    "unique_words = list(set(words))\n",
    "print(f'Уникальные слова: {\", \".join(unique_words)}')"
   ]
  },
  {
   "cell_type": "markdown",
   "metadata": {},
   "source": [
    "1.2 Сгенерируйте 5 пар случайно выбранных слов и посчитайте между ними расстояние редактирования."
   ]
  },
  {
   "cell_type": "code",
   "execution_count": 4,
   "metadata": {},
   "outputs": [],
   "source": [
    "import random\n",
    "from nltk.metrics import edit_distance"
   ]
  },
  {
   "cell_type": "code",
   "execution_count": 5,
   "metadata": {},
   "outputs": [
    {
     "name": "stdout",
     "output_type": "stream",
     "text": [
      "Расстояние редактирования между 'in' и 'served' равно 6.\n",
      "Расстояние редактирования между 'pita' и 'snack' равно 5.\n",
      "Расстояние редактирования между 'chicken' и 'can' равно 5.\n",
      "Расстояние редактирования между 'in' и 'easy' равно 4.\n",
      "Расстояние редактирования между 'slices' и 'taste' равно 5.\n"
     ]
    }
   ],
   "source": [
    "for i in range(5):\n",
    "    word1, word2 = random.sample(unique_words, 2)\n",
    "    distance = edit_distance(word1, word2)\n",
    "    print(f\"Расстояние редактирования между '{word1}' и '{word2}' равно {distance}.\")"
   ]
  },
  {
   "cell_type": "markdown",
   "metadata": {},
   "source": [
    "1.3 Напишите функцию, которая для заданного слова `word` возвращает `k` ближайших к нему слов из списка `words` (близость слов измеряется с помощью расстояния Левенштейна)"
   ]
  },
  {
   "cell_type": "code",
   "execution_count": 6,
   "metadata": {},
   "outputs": [],
   "source": [
    "def k_nearest_words(word, words, k):\n",
    "    \n",
    "    # расстояние Левенштейна\n",
    "    distances = {w: edit_distance(word, w) for w in words if w != word}\n",
    "    nearest_words = sorted(distances.items(), key=lambda x: x[1])[:k]\n",
    "    return [w[0] for w in nearest_words]"
   ]
  },
  {
   "cell_type": "code",
   "execution_count": 7,
   "metadata": {},
   "outputs": [
    {
     "name": "stdout",
     "output_type": "stream",
     "text": [
      "sandwiched\n",
      "['sandwich', 'slices', 'sauce']\n"
     ]
    }
   ],
   "source": [
    "example = random.sample(unique_words, 1)[0]\n",
    "\n",
    "print(example)\n",
    "print(k_nearest_words(example, unique_words, 3))\n"
   ]
  },
  {
   "cell_type": "markdown",
   "metadata": {},
   "source": [
    "### Стемминг, лемматизация"
   ]
  },
  {
   "cell_type": "markdown",
   "metadata": {},
   "source": [
    "2.1 На основе результатов 1.1 создайте `pd.DataFrame` со столбцами: \n",
    "    * word\n",
    "    * stemmed_word \n",
    "    * normalized_word \n",
    "\n",
    "Столбец `word` укажите в качестве индекса. \n",
    "\n",
    "Для стемминга воспользуйтесь `SnowballStemmer`, для нормализации слов - `WordNetLemmatizer`. Сравните результаты стемминга и лемматизации."
   ]
  },
  {
   "cell_type": "code",
   "execution_count": 8,
   "metadata": {},
   "outputs": [],
   "source": [
    "import pandas as pd\n",
    "import nltk\n",
    "from nltk.stem import SnowballStemmer, WordNetLemmatizer\n",
    "#vnltk.download('wordnet')\n",
    "# nltk.download('omw-1.4')"
   ]
  },
  {
   "cell_type": "code",
   "execution_count": 9,
   "metadata": {},
   "outputs": [
    {
     "data": {
      "text/html": [
       "<div>\n",
       "<style scoped>\n",
       "    .dataframe tbody tr th:only-of-type {\n",
       "        vertical-align: middle;\n",
       "    }\n",
       "\n",
       "    .dataframe tbody tr th {\n",
       "        vertical-align: top;\n",
       "    }\n",
       "\n",
       "    .dataframe thead th {\n",
       "        text-align: right;\n",
       "    }\n",
       "</style>\n",
       "<table border=\"1\" class=\"dataframe\">\n",
       "  <thead>\n",
       "    <tr style=\"text-align: right;\">\n",
       "      <th></th>\n",
       "      <th>word</th>\n",
       "      <th>stemmed_word</th>\n",
       "      <th>normalized_word</th>\n",
       "    </tr>\n",
       "  </thead>\n",
       "  <tbody>\n",
       "    <tr>\n",
       "      <th>1</th>\n",
       "      <td>snack</td>\n",
       "      <td>snack</td>\n",
       "      <td>snack</td>\n",
       "    </tr>\n",
       "    <tr>\n",
       "      <th>2</th>\n",
       "      <td>your</td>\n",
       "      <td>your</td>\n",
       "      <td>your</td>\n",
       "    </tr>\n",
       "    <tr>\n",
       "      <th>3</th>\n",
       "      <td>warm</td>\n",
       "      <td>warm</td>\n",
       "      <td>warm</td>\n",
       "    </tr>\n",
       "    <tr>\n",
       "      <th>4</th>\n",
       "      <td>spinach</td>\n",
       "      <td>spinach</td>\n",
       "      <td>spinach</td>\n",
       "    </tr>\n",
       "    <tr>\n",
       "      <th>5</th>\n",
       "      <td>mushroom</td>\n",
       "      <td>mushroom</td>\n",
       "      <td>mushroom</td>\n",
       "    </tr>\n",
       "    <tr>\n",
       "      <th>...</th>\n",
       "      <td>...</td>\n",
       "      <td>...</td>\n",
       "      <td>...</td>\n",
       "    </tr>\n",
       "    <tr>\n",
       "      <th>105</th>\n",
       "      <td>because</td>\n",
       "      <td>becaus</td>\n",
       "      <td>because</td>\n",
       "    </tr>\n",
       "    <tr>\n",
       "      <th>106</th>\n",
       "      <td>check</td>\n",
       "      <td>check</td>\n",
       "      <td>check</td>\n",
       "    </tr>\n",
       "    <tr>\n",
       "      <th>107</th>\n",
       "      <td>in</td>\n",
       "      <td>in</td>\n",
       "      <td>in</td>\n",
       "    </tr>\n",
       "    <tr>\n",
       "      <th>108</th>\n",
       "      <td>my</td>\n",
       "      <td>my</td>\n",
       "      <td>my</td>\n",
       "    </tr>\n",
       "    <tr>\n",
       "      <th>109</th>\n",
       "      <td>pre</td>\n",
       "      <td>pre</td>\n",
       "      <td>pre</td>\n",
       "    </tr>\n",
       "  </tbody>\n",
       "</table>\n",
       "<p>109 rows × 3 columns</p>\n",
       "</div>"
      ],
      "text/plain": [
       "         word stemmed_word normalized_word\n",
       "1       snack        snack           snack\n",
       "2        your         your            your\n",
       "3        warm         warm            warm\n",
       "4     spinach      spinach         spinach\n",
       "5    mushroom     mushroom        mushroom\n",
       "..        ...          ...             ...\n",
       "105   because       becaus         because\n",
       "106     check        check           check\n",
       "107        in           in              in\n",
       "108        my           my              my\n",
       "109       pre          pre             pre\n",
       "\n",
       "[109 rows x 3 columns]"
      ]
     },
     "execution_count": 9,
     "metadata": {},
     "output_type": "execute_result"
    }
   ],
   "source": [
    "stemmer = SnowballStemmer('english')\n",
    "lemmatizer = WordNetLemmatizer()\n",
    "stemmed_words = [stemmer.stem(word) for word in unique_words]\n",
    "lemmatized_words = [lemmatizer.lemmatize(word) for word in unique_words]\n",
    "df = pd.DataFrame({\n",
    "    'word': unique_words,\n",
    "    'stemmed_word': stemmed_words,\n",
    "    'normalized_word': lemmatized_words\n",
    "})\n",
    "df.index = df.index + 1\n",
    "df"
   ]
  },
  {
   "cell_type": "markdown",
   "metadata": {},
   "source": [
    "2.2. Удалите стоп-слова из описаний рецептов. Какую долю об общего количества слов составляли стоп-слова? Сравните топ-10 самых часто употребляемых слов до и после удаления стоп-слов."
   ]
  },
  {
   "cell_type": "code",
   "execution_count": 10,
   "metadata": {},
   "outputs": [],
   "source": [
    "from nltk.corpus import stopwords\n",
    "# nltk.download('stopwords')"
   ]
  },
  {
   "cell_type": "code",
   "execution_count": 11,
   "metadata": {},
   "outputs": [
    {
     "name": "stdout",
     "output_type": "stream",
     "text": [
      "Доля стоп-слов от общего количества слов: 47.13%\n"
     ]
    }
   ],
   "source": [
    "stop_words = set(stopwords.words(\"english\"))\n",
    "\n",
    "# Удаление стоп-слов\n",
    "filtered_word_list = [word for word in words if word not in stop_words]\n",
    "stop_word_ratio = 1 - len(filtered_word_list)/len(words)\n",
    "print('Доля стоп-слов от общего количества слов: {:.2%}'.format(stop_word_ratio))"
   ]
  },
  {
   "cell_type": "code",
   "execution_count": 12,
   "metadata": {},
   "outputs": [
    {
     "name": "stdout",
     "output_type": "stream",
     "text": [
      "Топ-10 Слов без удаления стоп-слов:\n",
      "\n",
      "      word  count\n",
      "1      the      7\n",
      "2        a      6\n",
      "3     this      5\n",
      "4   recipe      5\n",
      "5       or      4\n",
      "6       is      3\n",
      "7     with      3\n",
      "8       to      3\n",
      "9       in      3\n",
      "10    from      3\n",
      "\n",
      "\n",
      "Топ-10 Слов c удаления стоп-слов:\n",
      "\n",
      "         word  count\n",
      "1      recipe      5\n",
      "2       sauce      2\n",
      "3        side      2\n",
      "4        dish      2\n",
      "5      entree      2\n",
      "6       sushi      2\n",
      "7   favourite      2\n",
      "8       serve      2\n",
      "9        easy      1\n",
      "10      snack      1\n"
     ]
    }
   ],
   "source": [
    "words_top = pd.DataFrame(words).stack().value_counts().reset_index()[:10]\n",
    "words_top.columns = ['word', 'count']\n",
    "words_top.index = words_top.index + 1\n",
    "print(f'Топ-10 Слов без удаления стоп-слов:\\n\\n{words_top}\\n\\n')\n",
    "\n",
    "filtered_words_top = pd.DataFrame(filtered_word_list).stack().value_counts().reset_index()[:10]\n",
    "filtered_words_top.columns = ['word', 'count']\n",
    "filtered_words_top.index = filtered_words_top.index + 1\n",
    "print(f'Топ-10 Слов c удаления стоп-слов:\\n\\n{filtered_words_top}')"
   ]
  },
  {
   "cell_type": "markdown",
   "metadata": {},
   "source": [
    "### Векторное представление текста"
   ]
  },
  {
   "cell_type": "markdown",
   "metadata": {},
   "source": [
    "3.1 Выберите случайным образом 5 рецептов из набора данных. Представьте описание каждого рецепта в виде числового вектора при помощи `TfidfVectorizer`"
   ]
  },
  {
   "cell_type": "code",
   "execution_count": 13,
   "metadata": {},
   "outputs": [],
   "source": [
    "from sklearn.feature_extraction.text import TfidfVectorizer"
   ]
  },
  {
   "cell_type": "code",
   "execution_count": 14,
   "metadata": {},
   "outputs": [],
   "source": [
    "recipes = pd.read_csv('data/recipes_sample.csv').sample(5)"
   ]
  },
  {
   "cell_type": "code",
   "execution_count": 15,
   "metadata": {},
   "outputs": [
    {
     "data": {
      "text/plain": [
       "array([0.        , 0.04362899, 0.04362899, 0.0351996 , 0.02457981,\n",
       "       0.        , 0.        , 0.        , 0.        , 0.        ,\n",
       "       0.        , 0.        , 0.        , 0.        , 0.        ,\n",
       "       0.        , 0.        , 0.        , 0.        , 0.        ,\n",
       "       0.        , 0.        , 0.        , 0.        , 0.        ,\n",
       "       0.        , 0.        , 0.04362899, 0.0351996 , 0.04362899,\n",
       "       0.        , 0.0351996 , 0.04362899, 0.        , 0.04362899,\n",
       "       0.04362899, 0.02457981, 0.        , 0.        , 0.04362899,\n",
       "       0.        , 0.        , 0.04362899, 0.04362899, 0.        ,\n",
       "       0.        , 0.        , 0.0351996 , 0.        , 0.        ,\n",
       "       0.        , 0.04362899, 0.02921885, 0.        , 0.        ,\n",
       "       0.        , 0.        , 0.        , 0.        , 0.0351996 ,\n",
       "       0.07039919, 0.02078945, 0.04362899, 0.        , 0.        ,\n",
       "       0.        , 0.        , 0.        , 0.        , 0.        ,\n",
       "       0.        , 0.04362899, 0.04362899, 0.04362899])"
      ]
     },
     "execution_count": 15,
     "metadata": {},
     "output_type": "execute_result"
    }
   ],
   "source": [
    "vectorizer = TfidfVectorizer(norm='l1')\n",
    "vectors = vectorizer.fit_transform(recipes['description'])\n",
    "vectors.toarray()[0]"
   ]
  },
  {
   "cell_type": "markdown",
   "metadata": {},
   "source": [
    "3.2 Вычислите близость между каждой парой рецептов, выбранных в задании 3.1, используя косинусное расстояние (`scipy.spatial.distance.cosine`) Результаты оформите в виде таблицы `pd.DataFrame`. В качестве названий строк и столбцов используйте названия рецептов."
   ]
  },
  {
   "cell_type": "code",
   "execution_count": 16,
   "metadata": {},
   "outputs": [],
   "source": [
    "from scipy.spatial.distance import cosine\n",
    "from sklearn.metrics.pairwise import cosine_similarity"
   ]
  },
  {
   "cell_type": "code",
   "execution_count": 17,
   "metadata": {},
   "outputs": [
    {
     "data": {
      "text/html": [
       "<div>\n",
       "<style scoped>\n",
       "    .dataframe tbody tr th:only-of-type {\n",
       "        vertical-align: middle;\n",
       "    }\n",
       "\n",
       "    .dataframe tbody tr th {\n",
       "        vertical-align: top;\n",
       "    }\n",
       "\n",
       "    .dataframe thead th {\n",
       "        text-align: right;\n",
       "    }\n",
       "</style>\n",
       "<table border=\"1\" class=\"dataframe\">\n",
       "  <thead>\n",
       "    <tr style=\"text-align: right;\">\n",
       "      <th>name</th>\n",
       "      <th>greek zucchini cakes</th>\n",
       "      <th>chickpea  avocado and sun dried tomato salad</th>\n",
       "      <th>tomatoes stuffed with corn chili</th>\n",
       "      <th>egyptian rice with spicy tomato sauce</th>\n",
       "      <th>p f chang s shrimp with lobster sauce</th>\n",
       "    </tr>\n",
       "    <tr>\n",
       "      <th>name</th>\n",
       "      <th></th>\n",
       "      <th></th>\n",
       "      <th></th>\n",
       "      <th></th>\n",
       "      <th></th>\n",
       "    </tr>\n",
       "  </thead>\n",
       "  <tbody>\n",
       "    <tr>\n",
       "      <th>greek zucchini cakes</th>\n",
       "      <td>100.00%</td>\n",
       "      <td>8.30%</td>\n",
       "      <td>30.17%</td>\n",
       "      <td>5.15%</td>\n",
       "      <td>6.33%</td>\n",
       "    </tr>\n",
       "    <tr>\n",
       "      <th>chickpea  avocado and sun dried tomato salad</th>\n",
       "      <td>8.30%</td>\n",
       "      <td>100.00%</td>\n",
       "      <td>10.58%</td>\n",
       "      <td>3.69%</td>\n",
       "      <td>8.88%</td>\n",
       "    </tr>\n",
       "    <tr>\n",
       "      <th>tomatoes stuffed with corn chili</th>\n",
       "      <td>30.17%</td>\n",
       "      <td>10.58%</td>\n",
       "      <td>100.00%</td>\n",
       "      <td>5.37%</td>\n",
       "      <td>11.14%</td>\n",
       "    </tr>\n",
       "    <tr>\n",
       "      <th>egyptian rice with spicy tomato sauce</th>\n",
       "      <td>5.15%</td>\n",
       "      <td>3.69%</td>\n",
       "      <td>5.37%</td>\n",
       "      <td>100.00%</td>\n",
       "      <td>23.43%</td>\n",
       "    </tr>\n",
       "    <tr>\n",
       "      <th>p f chang s shrimp with lobster sauce</th>\n",
       "      <td>6.33%</td>\n",
       "      <td>8.88%</td>\n",
       "      <td>11.14%</td>\n",
       "      <td>23.43%</td>\n",
       "      <td>100.00%</td>\n",
       "    </tr>\n",
       "  </tbody>\n",
       "</table>\n",
       "</div>"
      ],
      "text/plain": [
       "name                                         greek zucchini cakes  \\\n",
       "name                                                                \n",
       "greek zucchini cakes                                      100.00%   \n",
       "chickpea  avocado and sun dried tomato salad                8.30%   \n",
       "tomatoes stuffed with corn chili                           30.17%   \n",
       "egyptian rice with spicy tomato sauce                       5.15%   \n",
       "p f chang s shrimp with lobster sauce                       6.33%   \n",
       "\n",
       "name                                         chickpea  avocado and sun dried tomato salad  \\\n",
       "name                                                                                        \n",
       "greek zucchini cakes                                                                8.30%   \n",
       "chickpea  avocado and sun dried tomato salad                                      100.00%   \n",
       "tomatoes stuffed with corn chili                                                   10.58%   \n",
       "egyptian rice with spicy tomato sauce                                               3.69%   \n",
       "p f chang s shrimp with lobster sauce                                               8.88%   \n",
       "\n",
       "name                                         tomatoes stuffed with corn chili  \\\n",
       "name                                                                            \n",
       "greek zucchini cakes                                                   30.17%   \n",
       "chickpea  avocado and sun dried tomato salad                           10.58%   \n",
       "tomatoes stuffed with corn chili                                      100.00%   \n",
       "egyptian rice with spicy tomato sauce                                   5.37%   \n",
       "p f chang s shrimp with lobster sauce                                  11.14%   \n",
       "\n",
       "name                                         egyptian rice with spicy tomato sauce  \\\n",
       "name                                                                                 \n",
       "greek zucchini cakes                                                         5.15%   \n",
       "chickpea  avocado and sun dried tomato salad                                 3.69%   \n",
       "tomatoes stuffed with corn chili                                             5.37%   \n",
       "egyptian rice with spicy tomato sauce                                      100.00%   \n",
       "p f chang s shrimp with lobster sauce                                       23.43%   \n",
       "\n",
       "name                                         p f chang s shrimp with lobster sauce  \n",
       "name                                                                                \n",
       "greek zucchini cakes                                                         6.33%  \n",
       "chickpea  avocado and sun dried tomato salad                                 8.88%  \n",
       "tomatoes stuffed with corn chili                                            11.14%  \n",
       "egyptian rice with spicy tomato sauce                                       23.43%  \n",
       "p f chang s shrimp with lobster sauce                                      100.00%  "
      ]
     },
     "execution_count": 17,
     "metadata": {},
     "output_type": "execute_result"
    }
   ],
   "source": [
    "results = pd.DataFrame(columns=recipes['name'], index=recipes['name'])\n",
    "\n",
    "for i, vector1 in enumerate(vectors):\n",
    "    for j, vector2 in enumerate(vectors):\n",
    "        similarity = 1 - cosine(*vector1.toarray(), *vector2.toarray())\n",
    "        results.iloc[i, j] = similarity\n",
    "\n",
    "results = results.applymap(lambda x: f\"{x*100:.2f}%\")\n",
    "results"
   ]
  },
  {
   "cell_type": "code",
   "execution_count": 18,
   "metadata": {},
   "outputs": [
    {
     "data": {
      "text/html": [
       "<div>\n",
       "<style scoped>\n",
       "    .dataframe tbody tr th:only-of-type {\n",
       "        vertical-align: middle;\n",
       "    }\n",
       "\n",
       "    .dataframe tbody tr th {\n",
       "        vertical-align: top;\n",
       "    }\n",
       "\n",
       "    .dataframe thead th {\n",
       "        text-align: right;\n",
       "    }\n",
       "</style>\n",
       "<table border=\"1\" class=\"dataframe\">\n",
       "  <thead>\n",
       "    <tr style=\"text-align: right;\">\n",
       "      <th>name</th>\n",
       "      <th>greek zucchini cakes</th>\n",
       "      <th>chickpea  avocado and sun dried tomato salad</th>\n",
       "      <th>tomatoes stuffed with corn chili</th>\n",
       "      <th>egyptian rice with spicy tomato sauce</th>\n",
       "      <th>p f chang s shrimp with lobster sauce</th>\n",
       "    </tr>\n",
       "    <tr>\n",
       "      <th>name</th>\n",
       "      <th></th>\n",
       "      <th></th>\n",
       "      <th></th>\n",
       "      <th></th>\n",
       "      <th></th>\n",
       "    </tr>\n",
       "  </thead>\n",
       "  <tbody>\n",
       "    <tr>\n",
       "      <th>greek zucchini cakes</th>\n",
       "      <td>100.00%</td>\n",
       "      <td>8.30%</td>\n",
       "      <td>30.17%</td>\n",
       "      <td>5.15%</td>\n",
       "      <td>6.33%</td>\n",
       "    </tr>\n",
       "    <tr>\n",
       "      <th>chickpea  avocado and sun dried tomato salad</th>\n",
       "      <td>8.30%</td>\n",
       "      <td>100.00%</td>\n",
       "      <td>10.58%</td>\n",
       "      <td>3.69%</td>\n",
       "      <td>8.88%</td>\n",
       "    </tr>\n",
       "    <tr>\n",
       "      <th>tomatoes stuffed with corn chili</th>\n",
       "      <td>30.17%</td>\n",
       "      <td>10.58%</td>\n",
       "      <td>100.00%</td>\n",
       "      <td>5.37%</td>\n",
       "      <td>11.14%</td>\n",
       "    </tr>\n",
       "    <tr>\n",
       "      <th>egyptian rice with spicy tomato sauce</th>\n",
       "      <td>5.15%</td>\n",
       "      <td>3.69%</td>\n",
       "      <td>5.37%</td>\n",
       "      <td>100.00%</td>\n",
       "      <td>23.43%</td>\n",
       "    </tr>\n",
       "    <tr>\n",
       "      <th>p f chang s shrimp with lobster sauce</th>\n",
       "      <td>6.33%</td>\n",
       "      <td>8.88%</td>\n",
       "      <td>11.14%</td>\n",
       "      <td>23.43%</td>\n",
       "      <td>100.00%</td>\n",
       "    </tr>\n",
       "  </tbody>\n",
       "</table>\n",
       "</div>"
      ],
      "text/plain": [
       "name                                         greek zucchini cakes  \\\n",
       "name                                                                \n",
       "greek zucchini cakes                                      100.00%   \n",
       "chickpea  avocado and sun dried tomato salad                8.30%   \n",
       "tomatoes stuffed with corn chili                           30.17%   \n",
       "egyptian rice with spicy tomato sauce                       5.15%   \n",
       "p f chang s shrimp with lobster sauce                       6.33%   \n",
       "\n",
       "name                                         chickpea  avocado and sun dried tomato salad  \\\n",
       "name                                                                                        \n",
       "greek zucchini cakes                                                                8.30%   \n",
       "chickpea  avocado and sun dried tomato salad                                      100.00%   \n",
       "tomatoes stuffed with corn chili                                                   10.58%   \n",
       "egyptian rice with spicy tomato sauce                                               3.69%   \n",
       "p f chang s shrimp with lobster sauce                                               8.88%   \n",
       "\n",
       "name                                         tomatoes stuffed with corn chili  \\\n",
       "name                                                                            \n",
       "greek zucchini cakes                                                   30.17%   \n",
       "chickpea  avocado and sun dried tomato salad                           10.58%   \n",
       "tomatoes stuffed with corn chili                                      100.00%   \n",
       "egyptian rice with spicy tomato sauce                                   5.37%   \n",
       "p f chang s shrimp with lobster sauce                                  11.14%   \n",
       "\n",
       "name                                         egyptian rice with spicy tomato sauce  \\\n",
       "name                                                                                 \n",
       "greek zucchini cakes                                                         5.15%   \n",
       "chickpea  avocado and sun dried tomato salad                                 3.69%   \n",
       "tomatoes stuffed with corn chili                                             5.37%   \n",
       "egyptian rice with spicy tomato sauce                                      100.00%   \n",
       "p f chang s shrimp with lobster sauce                                       23.43%   \n",
       "\n",
       "name                                         p f chang s shrimp with lobster sauce  \n",
       "name                                                                                \n",
       "greek zucchini cakes                                                         6.33%  \n",
       "chickpea  avocado and sun dried tomato salad                                 8.88%  \n",
       "tomatoes stuffed with corn chili                                            11.14%  \n",
       "egyptian rice with spicy tomato sauce                                       23.43%  \n",
       "p f chang s shrimp with lobster sauce                                      100.00%  "
      ]
     },
     "metadata": {},
     "output_type": "display_data"
    }
   ],
   "source": [
    "# альтернативный вариант\n",
    "similarity_matrix = cosine_similarity(vectors)\n",
    "\n",
    "\n",
    "results = pd.DataFrame(similarity_matrix, columns=recipes['name'], index=recipes['name'])\n",
    "results = results.applymap(lambda x: f\"{x*100:.2f}%\")\n",
    "\n",
    "\n",
    "display(results)\n"
   ]
  },
  {
   "cell_type": "markdown",
   "metadata": {},
   "source": [
    "3.3 Какие рецепты являются наиболее похожими? Прокомментируйте результат (словами)."
   ]
  },
  {
   "attachments": {
    "image.png": {
     "image/png": "[encoded data removed]"
    }
   },
   "cell_type": "markdown",
   "metadata": {},
   "source": [
    "![image.png](attachment:image.png)\n",
    "\n",
    "Из таблицы видно, что наиболее похожими являются \"filet mignon with cherry balsamic reduction\" и \"alaskan smoked salmon sauce\", с коэффициентом сходства 23.21%. Это может быть связано с тем, что оба рецепта содержат мясо и соус, а также с тем, что они являются более сложными рецептами по сравнению с другими рецептами в таблице.\n",
    "\n",
    "Также можно заметить, что \"hornswaggle peachy keen ginger mojito\" имеет наименьшее косинусное расстояние с \"crock pot chicken bbq\", что может быть связано с тем, что оба рецепта являются более простыми и содержат более базовые ингредиенты, такие как мясо и фрукты.\n",
    "\n",
    "Однако, нельзя сказать, что эти рецепты сильно похожи, так как значение все же не очень высокое. В целом, результаты могут помочь выявить общие черты между некоторыми рецептами, но не дают полной картины о сходстве между ними."
   ]
  }
 ],
 "metadata": {
  "kernelspec": {
   "display_name": "Python 3 (ipykernel)",
   "language": "python",
   "name": "python3"
  },
  "language_info": {
   "codemirror_mode": {
    "name": "ipython",
    "version": 3
   },
   "file_extension": ".py",
   "mimetype": "text/x-python",
   "name": "python",
   "nbconvert_exporter": "python",
   "pygments_lexer": "ipython3",
   "version": "3.9.13"
  }
 },
 "nbformat": 4,
 "nbformat_minor": 4
}
